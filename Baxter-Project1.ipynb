{
 "cells": [
  {
   "cell_type": "markdown",
   "metadata": {},
   "source": [
    "# Project 1: Moving a Single Arm\n",
    "\n",
    "#### Baxter's Arm Joint Labels\n",
    "\n",
    "![BaxterExample](http://sdk.rethinkrobotics.com/mediawiki-1.22.2/images/b/b0/Joint_description.png)\n",
    "#### S → Shoulder, E → Elbow, W → Wrist \n",
    "\n",
    "## Our Goal for Project 1\n",
    "To construct a python program to control a single arm!\n",
    "\n",
    "#### Things to consider:\n",
    "- ROS is VERY picky about running python (We need Python 2.7).\n",
    "- Import the proper files for ROS interaction.\n",
    "- Enable baxter, if he is inherently disabled.\n",
    "- Find the proper identification for Baxter's arm joints.\n",
    "- End with a script in .py format.\n",
    "- We have to add \"#!/usr/bin/env python\" as the 1st line of the script.\n",
    "- Watch youtube video to see how to run final script in ROS."
   ]
  },
  {
   "cell_type": "code",
   "execution_count": null,
   "metadata": {},
   "outputs": [],
   "source": [
    "#####################################################################\n",
    "## CAN ONLY BE RUN IN ROS CLIENT WHEN CONNECTED TO BAXTER (Or Sim)!!!\n",
    "#####################################################################\n",
    "## Remember to enable Baxter manually before the program operation.\n",
    "## Determine necessary imports\n",
    "#####################################################################\n",
    "import argparse\n",
    " \n",
    "import rospy\n",
    "import time\n",
    " \n",
    "import baxter_interface\n",
    "import baxter_external_devices\n",
    " \n",
    "from baxter_interface import CHECK_VERSION"
   ]
  },
  {
   "cell_type": "markdown",
   "metadata": {},
   "source": [
    "# Important ID's for the program\n",
    "\n",
    "Limbs:\n",
    "- baxter_interface.Limb('left')\n",
    "- baxter_interface.Limb('right')\n",
    "\n",
    "Joints:\n",
    "- baxter_interface.Limb('left').joint_names()\n",
    "- baxter_interface.Limb('right').joint_names()\n",
    "\n",
    "Arm end-effectors:\n",
    "- baxter_interface.Gripper('left')\n",
    "- baxter_interface.Gripper('right')"
   ]
  },
  {
   "cell_type": "code",
   "execution_count": 6,
   "metadata": {},
   "outputs": [],
   "source": [
    "## Housekeeping function for joint movement\n",
    "\n",
    "def jointMovement(limb, joint_name, delta):\n",
    "    current_position = limb.joint_angle(joint_name)\n",
    "    joint_command = {joint_name: current_position + delta}\n",
    "    limb.set_joint_positions(joint_command)"
   ]
  },
  {
   "cell_type": "markdown",
   "metadata": {},
   "source": [
    "### The jointMovement() can be used for controlled (Joint Specific) arm movement. \n",
    "\n",
    "Information on the internal calls from RethinkRobotics:\n",
    "\n",
    "The limb refers to the limb instance of Baxter's limbs for the corresponding side. delta refers to the required displacement of the joint from its current position. The method joint_angle() returns the current position of that joint. Then, the joint command message is updated for that corresponding joint to indicate the new position. set_joint_positions() method publishes the joint commands to the position controller."
   ]
  },
  {
   "cell_type": "code",
   "execution_count": null,
   "metadata": {},
   "outputs": [],
   "source": [
    "## Organize a function to adjust all joins in right arm.\n",
    "## Notice this code would look much nicer if we set rArm = baxter_interface.Limb('right')\n",
    "## Example: jointMovement(rArm, rArm.joint_names()[0], s0Tilt)\n",
    "## But, I wanted to work with the native commands for initial clarity with project 1.\n",
    "\n",
    "def rightHandWave(s0Tilt, s1Tilt, e0Tilt, e1Tilt, w0Tilt, w1Tilt, w2Tilt):\n",
    "    jointMovement(baxter_interface.Limb('right'), baxter_interface.Limb('right').joint_names()[0], s0Tilt)\n",
    "    time.sleep(0.2)\n",
    "    jointMovement(baxter_interface.Limb('right'), baxter_interface.Limb('right').joint_names()[1], s1Tilt)\n",
    "    time.sleep(0.2)\n",
    "    jointMovement(baxter_interface.Limb('right'), baxter_interface.Limb('right').joint_names()[2], e0Tilt)\n",
    "    time.sleep(0.2)\n",
    "    jointMovement(baxter_interface.Limb('right'), baxter_interface.Limb('right').joint_names()[3], e1Tilt)\n",
    "    time.sleep(0.2)\n",
    "    jointMovement(baxter_interface.Limb('right'), baxter_interface.Limb('right').joint_names()[4], w0Tilt)\n",
    "    time.sleep(0.2)\n",
    "    jointMovement(baxter_interface.Limb('right'), baxter_interface.Limb('right').joint_names()[5], w1Tilt)\n",
    "    time.sleep(0.2)\n",
    "    jointMovement(baxter_interface.Limb('right'), baxter_interface.Limb('right').joint_names()[6], w2Tilt)\n",
    "    time.sleep(0.2)"
   ]
  },
  {
   "cell_type": "markdown",
   "metadata": {},
   "source": [
    "# Basics for moving the right arm\n",
    "\n",
    "- jointMovement(baxter_interface.Limb('right'), baxter_interface.Limb('right').joint_names()[0], 0.1)  →  \"right_s0 increase\"\n",
    "- jointMovement(baxter_interface.Limb('right'), baxter_interface.Limb('right').joint_names()[0], -0.1) →  \"right_s0 decrease\"\n",
    "- jointMovement(baxter_interface.Limb('right'), baxter_interface.Limb('right').joint_names()[1], 0.1)  →  \"right_s1 increase\"\n",
    "- jointMovement(baxter_interface.Limb('right'), baxter_interface.Limb('right').joint_names()[1], -0.1) →  \"right_s1 decrease\"\n",
    "- jointMovement(baxter_interface.Limb('right'), baxter_interface.Limb('right').joint_names()[2], 0.1)  →  \"right_e0 increase\"\n",
    "- jointMovement(baxter_interface.Limb('right'), baxter_interface.Limb('right').joint_names()[2], -0.1) →  \"right_e0 decrease\"\n",
    "- jointMovement(baxter_interface.Limb('right'), baxter_interface.Limb('right').joint_names()[3], 0.1)  →  \"right_e1 increase\"\n",
    "- jointMovement(baxter_interface.Limb('right'), baxter_interface.Limb('right').joint_names()[3], -0.1) →  \"right_e1 decrease\"\n",
    "- jointMovement(baxter_interface.Limb('right'), baxter_interface.Limb('right').joint_names()[4], 0.1)  →  \"right_w0 increase\"\n",
    "- jointMovement(baxter_interface.Limb('right'), baxter_interface.Limb('right').joint_names()[4], -0.1) →  \"right_w0 decrease\"\n",
    "- jointMovement(baxter_interface.Limb('right'), baxter_interface.Limb('right').joint_names()[5], 0.1)  →  \"right_w1 increase\"\n",
    "- jointMovement(baxter_interface.Limb('right'), baxter_interface.Limb('right').joint_names()[5], -0.1) →  \"right_w1 decrease\"\n",
    "- jointMovement(baxter_interface.Limb('right'), baxter_interface.Limb('right').joint_names()[6], 0.1)  →  \"right_w2 increase\"\n",
    "- jointMovement(baxter_interface.Limb('right'), baxter_interface.Limb('right').joint_names()[6], -0.1) →  \"right_w2 decrease\""
   ]
  },
  {
   "cell_type": "markdown",
   "metadata": {},
   "source": [
    "### Now to start the body of the script\n",
    "\n",
    "Do some ROS initialization and setting right arm to neutral position."
   ]
  },
  {
   "cell_type": "code",
   "execution_count": null,
   "metadata": {},
   "outputs": [],
   "source": [
    "## Just some introductory typing and getting started...\n",
    "\n",
    "print(\"Welcome to Baxter's Right Arm Manipulation\")\n",
    "rospy.init_node('Hello_Baxter')\n",
    "\n",
    "print(\"Getting robot state... \")\n",
    "baxter = baxter_interface.RobotEnable(CHECK_VERSION)\n",
    "baxter_state = baxter.state().enabled\n",
    "\n",
    "print(\"Enabling robot... \")\n",
    "\n",
    "## If Baxter was Not enabled, enable baxter\n",
    "if not baxter_state:\n",
    "    baxter.enable()\n",
    "print(\"Done.\")\n",
    "\n",
    "## Move Right arm to neutral position\n",
    "baxter_interface.Limb('right').move_to_neutral()"
   ]
  },
  {
   "cell_type": "markdown",
   "metadata": {},
   "source": [
    "### Let's get that arm moving!\n",
    "\n",
    "I'll wrap the movements in a loop, for those that might want to cycle through given outputs"
   ]
  },
  {
   "cell_type": "code",
   "execution_count": null,
   "metadata": {},
   "outputs": [],
   "source": [
    "## The following number ranges are just from guess and check...\n",
    "## Feel free to put in custom values!\n",
    "\n",
    "for numberOfWaves in range(1): #range(number of times to run through given movements)\n",
    "    rightHandWave(-0.259, -0.402, 1.407, -0.114, -0.206, -0.245, -0.276)\n",
    "    rightHandWave(0.295, 0.0, 0.0, 0.0, 0.40, 0.000, 0.048)\n",
    "    rightHandWave(-0.295, 0.0, 0.0, 0.0, -0.40, 0.000, 0.048)"
   ]
  },
  {
   "cell_type": "markdown",
   "metadata": {},
   "source": [
    "### Time to end the program\n",
    "\n",
    "We'll do some housekeeping and re-disable baxter (if he started disabled).\n",
    "Also, we'll return his arm to neutral pose!"
   ]
  },
  {
   "cell_type": "code",
   "execution_count": null,
   "metadata": {},
   "outputs": [],
   "source": [
    "## Ending the program\n",
    "\n",
    "print(\"\\nExiting example...\")\n",
    "\n",
    "## If Baxter was originally disabled, disable again.\n",
    "if not baxter_state:\n",
    "    print(\"Disabling robot...\")\n",
    "    baxter.disable()\n",
    "\n",
    "## Move Baxter's Limb back to neutral position..\n",
    "baxter_interface.Limb('right').move_to_neutral()\n",
    "\n",
    "quit()"
   ]
  },
  {
   "cell_type": "markdown",
   "metadata": {},
   "source": [
    "### This bottom portion allows us to convert this notebook file to a .py\n",
    "\n",
    "Note that we'll have to edit the .py to remove the same line that does the conversion."
   ]
  },
  {
   "cell_type": "code",
   "execution_count": null,
   "metadata": {},
   "outputs": [],
   "source": [
    "## This is a useful command in Jupyter Lab to use \"!\" command to run the following line through CMD\n",
    "## The input converts this file to its corresponding script (i.e. from .ipynb to .py)\n",
    "\n",
    "!jupyter nbconvert --to script Baxter-Project1.ipynb\n",
    "\n",
    "## You'll have to remove the above line from the final code..."
   ]
  },
  {
   "cell_type": "markdown",
   "metadata": {},
   "source": [
    "## A link that explains how to get the script working in ROS simulation environment\n",
    "\n",
    "[Baxter Simulation Environment - Program 1 - Right Arm Movement](https://youtu.be/N67xMn8zdJc)\n",
    "\n",
    "#### Things that will need to be done:\n",
    "\n",
    "- Find ros directory\n",
    "- Find src for Baxter\n",
    "- Enter the script folder under Baxter Examples\n",
    "- Copy a .py within that file, rename it, and paste custom code inside of it\n",
    "- Make sure this line is at the top of the script (line 1): #!/usr/bin/env python\n",
    "- Start gazeebo\n",
    "- Use new terminal to run the new program!"
   ]
  }
 ],
 "metadata": {
  "kernelspec": {
   "display_name": "Python [conda env:py27]",
   "language": "python",
   "name": "conda-env-py27-py"
  },
  "language_info": {
   "codemirror_mode": {
    "name": "ipython",
    "version": 2
   },
   "file_extension": ".py",
   "mimetype": "text/x-python",
   "name": "python",
   "nbconvert_exporter": "python",
   "pygments_lexer": "ipython2",
   "version": "2.7.14"
  }
 },
 "nbformat": 4,
 "nbformat_minor": 2
}
