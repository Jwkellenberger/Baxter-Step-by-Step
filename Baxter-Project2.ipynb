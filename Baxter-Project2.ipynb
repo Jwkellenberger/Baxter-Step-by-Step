{
 "cells": [
  {
   "cell_type": "markdown",
   "metadata": {},
   "source": [
    "# Project 2: Moving all the things!\n",
    "\n",
    "(not final - head operation still a tad off - will update over weekend)\n\n",
    "(Gonna have to set a time clock to baxter's movements so they aren't nearly instant.)\n",
    "\n",
    "#### We'll move: Head/arms/grippers\n",
    "\n",
    "![BaxterExample](http://www.rethinkrobotics.com/wp-content/uploads/2015/03/baxter.png)\n",
    "\n",
    "## Our Goal for Project 2\n",
    "To construct a python program to control a head, arm, and gripper movement!\n",
    "\n",
    "#### Things to consider:\n",
    "- ROS is VERY picky about running python (We need Python 2.7).\n",
    "- Import the proper files for ROS interaction.\n",
    "- Enable baxter, if he is inherently disabled.\n",
    "- Find the proper identification for Baxter's arm, head and gripper!\n",
    "- End with a script in .py format.\n",
    "- We have to add \"#!/usr/bin/env python\" as the 1st line of the script."
   ]
  },
  {
   "cell_type": "code",
   "execution_count": null,
   "metadata": {},
   "outputs": [],
   "source": [
    "#####################################################################\n",
    "## CAN ONLY BE RUN IN ROS CLIENT WHEN CONNECTED TO BAXTER (Or Sim)!!!\n",
    "#####################################################################\n",
    "## Remember to enable Baxter manually before the program operation.\n",
    "## Determine necessary imports\n",
    "#####################################################################\n",
    "import rospy\n",
    "import time\n",
    " \n",
    "import baxter_interface\n",
    "import baxter_external_devices\n",
    " \n",
    "from baxter_interface import CHECK_VERSION"
   ]
  },
  {
   "cell_type": "markdown",
   "metadata": {},
   "source": [
    "### Now to start the body of the script\n",
    "\n",
    "Do some ROS initialization and setting baxter to his neutral position.\n",
    "But, this time, we have baxter's head, lArm, rArm, lGripper, rGripper"
   ]
  },
  {
   "cell_type": "code",
   "execution_count": null,
   "metadata": {},
   "outputs": [],
   "source": [
    "## Just some introductory typing and getting started...\n",
    "\n",
    "print(\"Welcome to Baxter's Right Arm Manipulation\")\n",
    "rospy.init_node('Hello_Baxter')\n",
    "\n",
    "print(\"Getting robot state... \")\n",
    "baxter = baxter_interface.RobotEnable(CHECK_VERSION)\n",
    "baxter_state = baxter.state().enabled\n",
    "\n",
    "print(\"Enabling robot... \")\n",
    "\n",
    "## If Baxter was Not enabled, enable baxter\n",
    "\n",
    "if not baxter_state:\n",
    "    baxter.enable()\n",
    "print(\"Done.\")"
   ]
  },
  {
   "cell_type": "markdown",
   "metadata": {},
   "source": [
    "### Important ID's for the program\n",
    "\n",
    "Head: \n",
    "- baxter_interface.Head()\n",
    "\n",
    "Limbs:\n",
    "- baxter_interface.Limb('left')\n",
    "- baxter_interface.Limb('right')\n",
    "\n",
    "Joints:\n",
    "- baxter_interface.Limb('left').joint_names()\n",
    "- baxter_interface.Limb('right').joint_names()\n",
    "\n",
    "Arm end-effectors:\n",
    "- baxter_interface.Gripper('left')\n",
    "- baxter_interface.Gripper('right')"
   ]
  },
  {
   "cell_type": "code",
   "execution_count": null,
   "metadata": {},
   "outputs": [],
   "source": [
    "## Housekeeping function for joint movement\n",
    "\n",
    "def jointMovement(limb, joint_name, delta):\n",
    "    current_position = limb.joint_angle(joint_name)\n",
    "    joint_command = {joint_name: current_position + delta}\n",
    "    limb.set_joint_positions(joint_command)\n",
    "    \n",
    "## The head allows for a pan setting, and a nod! \n",
    "def headNeutral():\n",
    "    baxter_interface.Head().set_pan(0.0)\n",
    "\n",
    "def headNod():\n",
    "    baxter_interface.Head().command_nod()    \n",
    "    \n",
    "def headPan(delta):\n",
    "    baxter_interface.Head().set_pan(delta)"
   ]
  },
  {
   "cell_type": "markdown",
   "metadata": {},
   "source": [
    "### The jointMovement() can be used for controlled (Joint Specific) arm movement. \n",
    "\n",
    "The set_joint_positions() method publishes the joint commands to the position controller, so we can move the joints on the specific arm of your choice!\n",
    "\n",
    "### The three head commands will allow us to get some additional functionality.\n",
    "\n",
    "![BaxterFaceExample](http://mfg.rethinkrobotics.com/mfg-mediawiki-1.22.2/images/6/6b/Face.png)\n",
    "\n",
    "- headNeutral() will allow us to reset our neutral position.\n",
    "- headPan() will allow us to rotate the head tilt position.\n",
    "- headNod() will allow us to perform a nod"
   ]
  },
  {
   "cell_type": "markdown",
   "metadata": {},
   "source": [
    "### Arm joint reference\n",
    "\n",
    "For memory purposes!\n",
    "\n",
    "![BaxterExample](http://sdk.rethinkrobotics.com/mediawiki-1.22.2/images/b/b0/Joint_description.png)"
   ]
  },
  {
   "cell_type": "code",
   "execution_count": null,
   "metadata": {},
   "outputs": [],
   "source": [
    "## Organize a function to adjust all joins for an arm\n",
    "## Set a variable for quick access to left and right arm\n",
    "## Put together a neutral position function for both arms\n",
    "\n",
    "rArm = baxter_interface.Limb('right')\n",
    "lArm = baxter_interface.Limb('left')\n",
    "\n",
    "def armNeutral():\n",
    "    lArm.move_to_neutral()\n",
    "    rArm.move_to_neutral()\n",
    "\n",
    "def armControl(arm,s0Tilt, s1Tilt, e0Tilt, e1Tilt, w0Tilt, w1Tilt, w2Tilt, timeDelay):\n",
    "    jointMovement(arm, arm.joint_names()[0], s0Tilt) # Shoulder\n",
    "    time.sleep(timeDelay)\n",
    "    jointMovement(arm, arm.joint_names()[1], s1Tilt) # Shoulder\n",
    "    time.sleep(timeDelay)\n",
    "    jointMovement(arm, arm.joint_names()[2], e0Tilt) # elbow\n",
    "    time.sleep(timeDelay)\n",
    "    jointMovement(arm, arm.joint_names()[3], e1Tilt) # elbow\n",
    "    time.sleep(timeDelay)\n",
    "    jointMovement(arm, arm.joint_names()[4], w0Tilt) # wrist\n",
    "    time.sleep(timeDelay)\n",
    "    jointMovement(arm, arm.joint_names()[5], w1Tilt) # wrist\n",
    "    time.sleep(timeDelay)\n",
    "    jointMovement(arm, arm.joint_names()[6], w2Tilt) # wrist\n",
    "    time.sleep(timeDelay)\n",
    "\n",
    "    \n",
    "## Set a variable for quick access to left and right gripper\n",
    "## Control a range of the gripper from 0(closed) - 100(open)\n",
    "## Put together a neutral positiong function for both grippers\n",
    "\n",
    "lGripper = baxter_interface.Gripper('left', CHECK_VERSION)\n",
    "rGripper = baxter_interface.Gripper('right', CHECK_VERSION)\n",
    "    \n",
    "def gripNeutral():\n",
    "    lGripper.command_position(100)\n",
    "    rGripper.command_position(100)\n",
    "    \n",
    "def gripControl(gripper, delta):\n",
    "    gripper.command_position(gripper.position() + delta)"
   ]
  },
  {
   "cell_type": "markdown",
   "metadata": {},
   "source": [
    "### Remember the gripper is set to a scale between 0(closed) - 100(open)\n",
    "\n",
    "This will also allow us to get useful functionality of the robot!\n",
    "But, it is important to know that there are many other commands for controlling the force by which the gripper holds objects. So, it becomes a complicated goal to hold and move objects without deforming, or potentially injuring them."
   ]
  },
  {
   "cell_type": "code",
   "execution_count": null,
   "metadata": {},
   "outputs": [],
   "source": [
    "## Whole robot neutral position\n",
    "\n",
    "def baxterNeutral():\n",
    "    headNeutral()\n",
    "    armNeutral()\n",
    "    gripNeutral()"
   ]
  },
  {
   "cell_type": "markdown",
   "metadata": {},
   "source": [
    "### Getting neutral"
   ]
  },
  {
   "cell_type": "code",
   "execution_count": null,
   "metadata": {},
   "outputs": [],
   "source": [
    "## Move all the things to neutral position\n",
    "\n",
    "print(\"Moving all parts to neutral position...\")\n",
    "baxterNeutral()"
   ]
  },
  {
   "cell_type": "markdown",
   "metadata": {},
   "source": [
    "### Let's get moving!\n",
    "\n",
    "Lets post back the function signature to remember their functions\n",
    "\n",
    " - headPan(delta):\n",
    " - gripControl(gripper, delta)\n",
    " - baxter_interface.Head().command_nod()\n",
    " - armControl(arm,s0Tilt, s1Tilt, e0Tilt, e1Tilt, w0Tilt, w1Tilt, w2Tilt, timeDelay)"
   ]
  },
  {
   "cell_type": "code",
   "execution_count": null,
   "metadata": {},
   "outputs": [],
   "source": [
    "## The following number ranges are just from guess and check...\n",
    "\n",
    "print(\"Let's Move!\")\n",
    "for numberOfWaves in range(1): #range(number of times to run through given movements)\n",
    "    armControl(lArm,-0.259, -0.402, 1.407, -0.114, -0.206, -0.245, -0.276, 0.15)\n",
    "    armControl(rArm,-0.259, -0.402, 1.407, -0.114, -0.206, -0.245, -0.276, 0.15)\n",
    "    baxter_interface.Head().command_nod()\n",
    "    gripControl(lGripper, -70)\n",
    "    gripControl(rGripper, -70)\n",
    "    armControl(lArm,+0.259, 0, 0, 0, 0, 0, 0, 0.05)\n",
    "    armControl(rArm,+0.259, 0, 0, 0, 0, 0, 0, 0.05)\n",
    "    baxterNeutral()"
   ]
  },
  {
   "cell_type": "markdown",
   "metadata": {},
   "source": [
    "### Time to end the program\n",
    "\n",
    "We'll do some housekeeping and re-disable baxter (if he started disabled).\n",
    "Also, we'll return his arm to neutral pose!"
   ]
  },
  {
   "cell_type": "code",
   "execution_count": null,
   "metadata": {},
   "outputs": [],
   "source": [
    "## Ending the program\n",
    "\n",
    "print(\"\\nExiting example...\")\n",
    "\n",
    "## Move Baxter's Limb back to neutral position..\n",
    "print(\"Verifying neutral position\")\n",
    "baxterNeutral()\n",
    "\n",
    "## If Baxter was originally disabled, disable again.\n",
    "if not baxter_state:\n",
    "    print(\"Disabling robot...\")\n",
    "    baxter.disable()\n",
    "\n",
    "quit()"
   ]
  },
  {
   "cell_type": "markdown",
   "metadata": {},
   "source": [
    "### This bottom portion allows us to convert this notebook file to a .py\n",
    "\n",
    "Note that we'll have to edit the .py to remove the same line that does the conversion."
   ]
  },
  {
   "cell_type": "code",
   "execution_count": null,
   "metadata": {},
   "outputs": [],
   "source": [
    "## This is a useful command in Jupyter Lab to use \"!\" command to run the following line through CMD\n",
    "## The input converts this file to its corresponding script (i.e. from .ipynb to .py)\n",
    "\n",
    "!jupyter nbconvert --to script Baxter-Project2.ipynb\n",
    "\n",
    "## You'll have to remove the above line from the final code..."
   ]
  },
  {
   "cell_type": "markdown",
   "metadata": {},
   "source": [
    "## A link that explains how to get the script working in ROS simulation environment\n",
    "\n",
    "[Baxter Simulation Environment - Program 1 - Right Arm Movement](https://youtu.be/9fWRwIbTApk)\n",
    "\n",
    "#### Things that will need to be done:\n",
    "\n",
    "- Find ros directory\n",
    "- Find src for Baxter\n",
    "- Enter the script folder under Baxter Examples\n",
    "- Copy a .py within that file, rename it, and paste custome code inside of it\n",
    "- Start gazeebo\n",
    "- Use new terminal to run the new program!"
   ]
  }
 ],
 "metadata": {
  "kernelspec": {
   "display_name": "Python [conda env:py27]",
   "language": "python",
   "name": "conda-env-py27-py"
  },
  "language_info": {
   "codemirror_mode": {
    "name": "ipython",
    "version": 2
   },
   "file_extension": ".py",
   "mimetype": "text/x-python",
   "name": "python",
   "nbconvert_exporter": "python",
   "pygments_lexer": "ipython2",
   "version": "2.7.14"
  }
 },
 "nbformat": 4,
 "nbformat_minor": 2
}
